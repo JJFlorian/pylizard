{
 "cells": [
  {
   "cell_type": "markdown",
   "metadata": {},
   "source": [
    "Setup\n",
    "-----\n"
   ]
  },
  {
   "cell_type": "code",
   "execution_count": null,
   "metadata": {},
   "outputs": [],
   "source": [
    "import pylizard.pylizard as liz\n",
    "\n",
    "headers = liz.get_headers('YOUR_LIZARD_API_KEY')"
   ]
  },
  {
   "cell_type": "markdown",
   "metadata": {},
   "source": [
    "Organisation\n",
    "------------\n"
   ]
  },
  {
   "cell_type": "code",
   "execution_count": null,
   "metadata": {},
   "outputs": [],
   "source": [
    "organisation = liz.Organisation(headers=headers, name = '3Di test')\n",
    "print(organisation.uuid)\n",
    "\n",
    "organisation_stats = organisation.get_stats()\n",
    "print(organisation_stats)\n",
    "\n",
    "# get a list of all location uuids under this organisation:\n",
    "organisation_locations = organisation.get_locations(return_format='list')\n",
    "\n",
    "# get a df of all data of all the timeseries on this organisation\n",
    "organisation_timeseries = organisation.get_timeseries(return_format='df')\n"
   ]
  },
  {
   "cell_type": "markdown",
   "metadata": {},
   "source": [
    "Monitoringnetwork\n",
    "------------------"
   ]
  },
  {
   "cell_type": "code",
   "execution_count": null,
   "metadata": {},
   "outputs": [],
   "source": [
    "# use a name to get a monitoringnetwork\n",
    "monitoringnetwork = liz.Monitoringnetwork(headers=headers, name='KNMI weerstations')\n",
    "monitoringnetwork_uuid = monitoringnetwork.uuid\n",
    "print(monitoringnetwork_uuid)\n",
    "\n",
    "# use a uuid to get a monitoringnetwork\n",
    "monitoringnetwork2 = liz.Monitoringnetwork(headers=headers, uuid='b27e26da-17f3-4208-9990-8faa5a4dfe08')\n",
    "monitoringnetwork2_name = monitoringnetwork.name\n",
    "print(monitoringnetwork2_name)\n",
    "\n",
    "print(monitoringnetwork.get_stats())\n",
    "\n",
    "# get list of uuids of locations in (default)\n",
    "monitoringnetwork_locations = monitoringnetwork.get_locations()\n",
    "\n",
    "# get df of all timeserie data related to monitoringnetwork\n",
    "monitoringnetwork_timeseries = monitoringnetwork.get_timeseries(return_format='df')\n",
    "print(monitoringnetwork_timeseries['uuid'])"
   ]
  },
  {
   "cell_type": "markdown",
   "metadata": {},
   "source": [
    "Groundwaterstations\n",
    "------------------"
   ]
  },
  {
   "cell_type": "code",
   "execution_count": null,
   "metadata": {},
   "outputs": [],
   "source": [
    "groundwaterstation = liz.Groundwaterstation(headers=headers, id=92025)\n",
    "print(groundwaterstation.get_groundwaterstation_data())\n",
    "\n",
    "filters = groundwaterstation.get_related_filters()\n",
    "timeseries = groundwaterstation.get_related_filter_timeseries()\n",
    "print(timeseries)\n",
    "\n"
   ]
  },
  {
   "cell_type": "markdown",
   "metadata": {},
   "source": [
    "Measuringstation\n",
    "================="
   ]
  },
  {
   "cell_type": "code",
   "execution_count": null,
   "metadata": {},
   "outputs": [],
   "source": [
    "# Example how to make a new asset: in stead of providing an id, use the post_parameters variable\n",
    "post_data = {\n",
    "    \"name\":'test_name',\n",
    "    \"organisation\":'organisation_uuid',\n",
    "    \"geometry\":{\n",
    "                \"type\": \"Point\",\n",
    "                \"coordinates\": [\n",
    "                    4.7,\n",
    "                    52.6,\n",
    "                    0.0\n",
    "                ]\n",
    "            },\n",
    "    \"code\":\"tes_code\",\n",
    "    \"station_type\":4,\n",
    "}\n",
    "\n",
    "new_measuringstation = liz.Measuringstation(headers=headers, post_params=post_data)\n",
    "\n",
    "print(new_measuringstation.id)\n",
    "\n",
    "# This should give no locations because the measuringstation was is new. But just as example\n",
    "related_locations = new_measuringstation.get_related_location()"
   ]
  },
  {
   "cell_type": "markdown",
   "metadata": {},
   "source": [
    "Locations\n",
    "---------"
   ]
  },
  {
   "cell_type": "code",
   "execution_count": null,
   "metadata": {},
   "outputs": [],
   "source": [
    "location = liz.Location(headers=headers, uuid='location_uuid')\n",
    "\n",
    "timeseries = location.get_related_timeseries(return_format='json')"
   ]
  },
  {
   "cell_type": "markdown",
   "metadata": {},
   "source": [
    "Timeseries\n",
    "----------"
   ]
  },
  {
   "cell_type": "code",
   "execution_count": null,
   "metadata": {},
   "outputs": [],
   "source": [
    "timeserie = liz.Timeserie(headers=headers, uuid='timeserie_uuid')\n",
    "print(timeserie.get_timeserie_data())\n",
    "\n",
    "aggregated_data = timeserie.get_aggregated_data(return_format='df', fields='avg,time', start='2022-08-18T08:24:26.880022Z', end='2023-08-18T08:24:26.880022Z', window='day')\n",
    "\n",
    "events = timeserie.get_events(time_range='2020-04-23T00:00:00Z,2022-04-23T00:00:00Z', extra_parameters='flag__in=2,3')\n",
    "\n",
    "# example of how to delete events. In this example the post data is the data that allready exists\n",
    "# that doesnt make sense, but just as example.\n",
    "timeserie.add_events(data_df='events')\n",
    "\n",
    "percentiles = timeserie.get_percentiles(percentiles='25,50,75')\n",
    "print(percentiles)"
   ]
  }
 ],
 "metadata": {
  "kernelspec": {
   "display_name": "Python 3",
   "language": "python",
   "name": "python3"
  },
  "language_info": {
   "codemirror_mode": {
    "name": "ipython",
    "version": 3
   },
   "file_extension": ".py",
   "mimetype": "text/x-python",
   "name": "python",
   "nbconvert_exporter": "python",
   "pygments_lexer": "ipython3",
   "version": "3.8.10"
  },
  "orig_nbformat": 4
 },
 "nbformat": 4,
 "nbformat_minor": 2
}
