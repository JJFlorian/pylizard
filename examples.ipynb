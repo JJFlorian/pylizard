{
 "cells": [
  {
   "cell_type": "markdown",
   "metadata": {},
   "source": [
    "Setup\n",
    "-----\n"
   ]
  },
  {
   "cell_type": "code",
   "execution_count": 3,
   "metadata": {},
   "outputs": [],
   "source": [
    "import pylizard.pylizard as liz\n",
    "\n",
    "headers = liz.get_headers('YOUR_LIZARD_API_KEY')"
   ]
  },
  {
   "cell_type": "markdown",
   "metadata": {},
   "source": [
    "Organisation\n",
    "------------\n"
   ]
  },
  {
   "cell_type": "code",
   "execution_count": 4,
   "metadata": {},
   "outputs": [
    {
     "name": "stdout",
     "output_type": "stream",
     "text": [
      "bf5b7a0b-c350-4489-a4f0-191e6d9e87f7\n",
      "{'groundwaterstations': 1, 'locations': 0, 'manholes': 0, 'measuringstations': 0, 'monitoringnetworks': 0, 'pumpstations': 0, 'rasters': 255, 'rastersources': 203, 'scenarios': 23, 'timeseries': 0, 'weirs': 0, 'wmslayers': 4}\n"
     ]
    }
   ],
   "source": [
    "organisation = liz.Organisation(headers=headers, name = '3Di test')\n",
    "print(organisation.uuid)\n",
    "\n",
    "organisation_stats = organisation.get_stats()\n",
    "print(organisation_stats)\n",
    "\n",
    "# get a list of all location uuids under this organisation:\n",
    "organisation_locations = organisation.get_locations(return_format='list')\n",
    "\n",
    "# get a df of all data of all the timeseries on this organisation\n",
    "organisation_timeseries = organisation.get_timeseries(return_format='df')\n"
   ]
  },
  {
   "cell_type": "markdown",
   "metadata": {},
   "source": [
    "Monitoringnetwork\n",
    "------------------"
   ]
  },
  {
   "cell_type": "code",
   "execution_count": 5,
   "metadata": {},
   "outputs": [
    {
     "name": "stdout",
     "output_type": "stream",
     "text": [
      "e896a10c-85a2-4b20-abe6-383727d3d6e1\n",
      "KNMI weerstations\n",
      "{'locations': 369, 'observationtypes': 8, 'timeseries': 513}\n",
      "0      3d6557bd-5396-4f56-a917-7b7772e7b371\n",
      "1      3c6004cf-2ad4-47e9-89a0-595b9ce02bdb\n",
      "2      aae25e31-3a89-46bd-a167-95a42eb2b4c2\n",
      "3      8d9c978b-1ae0-47d5-9565-b4a0c23e2105\n",
      "4      05bc2d3e-e3b4-4301-884f-23b636ad98d2\n",
      "                       ...                 \n",
      "508    b6c999b4-22cf-44f0-b6f2-00a791c0ff29\n",
      "509    3eedc591-33f4-43cd-aa91-d94c0f24e4e1\n",
      "510    b979f622-a802-4bad-9e7d-10447d266009\n",
      "511    03de4458-2c1a-4c39-8ce0-8e79048b7a92\n",
      "512    8f5289b6-4c5c-485d-8efe-b9d3e7edc1d3\n",
      "Name: uuid, Length: 513, dtype: object\n"
     ]
    }
   ],
   "source": [
    "# use a name to get a monitoringnetwork\n",
    "monitoringnetwork = liz.Monitoringnetwork(headers=headers, name='KNMI weerstations')\n",
    "monitoringnetwork_uuid = monitoringnetwork.uuid\n",
    "print(monitoringnetwork_uuid)\n",
    "\n",
    "# use a uuid to get a monitoringnetwork\n",
    "monitoringnetwork2 = liz.Monitoringnetwork(headers=headers, uuid='b27e26da-17f3-4208-9990-8faa5a4dfe08')\n",
    "monitoringnetwork2_name = monitoringnetwork.name\n",
    "print(monitoringnetwork2_name)\n",
    "\n",
    "print(monitoringnetwork.get_stats())\n",
    "\n",
    "# get list of uuids of locations in (default)\n",
    "monitoringnetwork_locations = monitoringnetwork.get_locations()\n",
    "\n",
    "# get df of all timeserie data related to monitoringnetwork\n",
    "monitoringnetwork_timeseries = monitoringnetwork.get_timeseries(return_format='df')\n",
    "print(monitoringnetwork_timeseries['uuid'])"
   ]
  },
  {
   "cell_type": "markdown",
   "metadata": {},
   "source": [
    "Groundwaterstations\n",
    "------------------"
   ]
  },
  {
   "cell_type": "code",
   "execution_count": 6,
   "metadata": {},
   "outputs": [
    {
     "name": "stdout",
     "output_type": "stream",
     "text": [
      "{'url': 'https://demo.lizard.net/api/v4/groundwaterstations/92025/', 'id': 92025, 'code': 'test1', 'organisation': {'url': 'https://demo.lizard.net/api/v4/organisations/bf5b7a0b-c350-4489-a4f0-191e6d9e87f7/', 'uuid': 'bf5b7a0b-c350-4489-a4f0-191e6d9e87f7', 'name': '3Di test'}, 'geometry': {'type': 'Point', 'coordinates': [4.755616145092396, 52.645713770517716, 0.0]}, 'last_modified': '2023-08-16T13:08:28.584118Z', 'created': '2023-08-16T12:49:17.108163Z', 'image_url': '', 'timeseries': [], 'filters': [], 'name': 'test_florian', 'station_type': 'base', 'status': 'active', 'scale': 'subarea', 'surface_level': None, 'top_level': None, 'bottom_level': None}\n",
      "No filters found for groundwaterstation id 92025\n",
      "No filters, and thus timeseries, were found for groundwaterstation id 92025\n",
      "None\n"
     ]
    }
   ],
   "source": [
    "groundwaterstation = liz.Groundwaterstation(headers=headers, id=92025)\n",
    "print(groundwaterstation.get_groundwaterstation_data())\n",
    "\n",
    "filters = groundwaterstation.get_related_filters()\n",
    "timeseries = groundwaterstation.get_related_filter_timeseries()\n",
    "print(timeseries)\n",
    "\n"
   ]
  },
  {
   "cell_type": "markdown",
   "metadata": {},
   "source": [
    "Measuringstation\n",
    "================="
   ]
  },
  {
   "cell_type": "code",
   "execution_count": 7,
   "metadata": {},
   "outputs": [
    {
     "ename": "KeyError",
     "evalue": "{'status': 400, 'code': 20, 'message': 'Incomplete request content. #400.20', 'detail': {'organisation': ['Invalid hyperlink - Object does not exist.']}}",
     "output_type": "error",
     "traceback": [
      "\u001b[1;31m---------------------------------------------------------------------------\u001b[0m",
      "\u001b[1;31mKeyError\u001b[0m                                  Traceback (most recent call last)",
      "\u001b[1;32mc:\\Users\\florian.knappers\\Desktop\\pylizard\\pylizard\\examples.ipynb Cell 10\u001b[0m in \u001b[0;36m<cell line: 17>\u001b[1;34m()\u001b[0m\n\u001b[0;32m      <a href='vscode-notebook-cell:/c%3A/Users/florian.knappers/Desktop/pylizard/pylizard/examples.ipynb#X12sZmlsZQ%3D%3D?line=0'>1</a>\u001b[0m \u001b[39m# Example how to make a new asset: in stead of providing an id, use the post_parameters variable\u001b[39;00m\n\u001b[0;32m      <a href='vscode-notebook-cell:/c%3A/Users/florian.knappers/Desktop/pylizard/pylizard/examples.ipynb#X12sZmlsZQ%3D%3D?line=1'>2</a>\u001b[0m post_data \u001b[39m=\u001b[39m {\n\u001b[0;32m      <a href='vscode-notebook-cell:/c%3A/Users/florian.knappers/Desktop/pylizard/pylizard/examples.ipynb#X12sZmlsZQ%3D%3D?line=2'>3</a>\u001b[0m     \u001b[39m\"\u001b[39m\u001b[39mname\u001b[39m\u001b[39m\"\u001b[39m:\u001b[39m'\u001b[39m\u001b[39mtest_name\u001b[39m\u001b[39m'\u001b[39m,\n\u001b[0;32m      <a href='vscode-notebook-cell:/c%3A/Users/florian.knappers/Desktop/pylizard/pylizard/examples.ipynb#X12sZmlsZQ%3D%3D?line=3'>4</a>\u001b[0m     \u001b[39m\"\u001b[39m\u001b[39morganisation\u001b[39m\u001b[39m\"\u001b[39m:\u001b[39m'\u001b[39m\u001b[39morganisation_uuid\u001b[39m\u001b[39m'\u001b[39m,\n\u001b[1;32m   (...)\u001b[0m\n\u001b[0;32m     <a href='vscode-notebook-cell:/c%3A/Users/florian.knappers/Desktop/pylizard/pylizard/examples.ipynb#X12sZmlsZQ%3D%3D?line=13'>14</a>\u001b[0m     \u001b[39m\"\u001b[39m\u001b[39mstation_type\u001b[39m\u001b[39m\"\u001b[39m:\u001b[39m4\u001b[39m,\n\u001b[0;32m     <a href='vscode-notebook-cell:/c%3A/Users/florian.knappers/Desktop/pylizard/pylizard/examples.ipynb#X12sZmlsZQ%3D%3D?line=14'>15</a>\u001b[0m }\n\u001b[1;32m---> <a href='vscode-notebook-cell:/c%3A/Users/florian.knappers/Desktop/pylizard/pylizard/examples.ipynb#X12sZmlsZQ%3D%3D?line=16'>17</a>\u001b[0m new_measuringstation \u001b[39m=\u001b[39m liz\u001b[39m.\u001b[39;49mMeasuringstation(headers\u001b[39m=\u001b[39;49mheaders, post_params\u001b[39m=\u001b[39;49mpost_data)\n\u001b[0;32m     <a href='vscode-notebook-cell:/c%3A/Users/florian.knappers/Desktop/pylizard/pylizard/examples.ipynb#X12sZmlsZQ%3D%3D?line=18'>19</a>\u001b[0m \u001b[39mprint\u001b[39m(new_measuringstation\u001b[39m.\u001b[39mid)\n\u001b[0;32m     <a href='vscode-notebook-cell:/c%3A/Users/florian.knappers/Desktop/pylizard/pylizard/examples.ipynb#X12sZmlsZQ%3D%3D?line=20'>21</a>\u001b[0m \u001b[39m# This should give no locations because the measuringstation was is new. But just as example\u001b[39;00m\n",
      "File \u001b[1;32mc:\\Users\\florian.knappers\\Desktop\\pylizard\\pylizard\\pylizard\\pylizard.py:835\u001b[0m, in \u001b[0;36mMeasuringstation.__init__\u001b[1;34m(self, headers, id, post_params)\u001b[0m\n\u001b[0;32m    833\u001b[0m     \u001b[39mprint\u001b[39m(\u001b[39mf\u001b[39m\u001b[39m\"\u001b[39m\u001b[39mMeasuringstation successfully created with id \u001b[39m\u001b[39m{\u001b[39;00m\u001b[39mself\u001b[39m\u001b[39m.\u001b[39mid\u001b[39m}\u001b[39;00m\u001b[39m\"\u001b[39m)\n\u001b[0;32m    834\u001b[0m \u001b[39melse\u001b[39;00m:\n\u001b[1;32m--> 835\u001b[0m     \u001b[39mraise\u001b[39;00m \u001b[39mKeyError\u001b[39;00m(r\u001b[39m.\u001b[39mjson())\n",
      "\u001b[1;31mKeyError\u001b[0m: {'status': 400, 'code': 20, 'message': 'Incomplete request content. #400.20', 'detail': {'organisation': ['Invalid hyperlink - Object does not exist.']}}"
     ]
    }
   ],
   "source": [
    "# Example how to make a new asset: in stead of providing an id, use the post_parameters variable\n",
    "post_data = {\n",
    "    \"name\":'test_name',\n",
    "    \"organisation\":'organisation_uuid',\n",
    "    \"geometry\":{\n",
    "                \"type\": \"Point\",\n",
    "                \"coordinates\": [\n",
    "                    4.7,\n",
    "                    52.6,\n",
    "                    0.0\n",
    "                ]\n",
    "            },\n",
    "    \"code\":\"tes_code\",\n",
    "    \"station_type\":4,\n",
    "}\n",
    "\n",
    "new_measuringstation = liz.Measuringstation(headers=headers, post_params=post_data)\n",
    "\n",
    "print(new_measuringstation.id)\n",
    "\n",
    "# This should give no locations because the measuringstation was is new. But just as example\n",
    "related_locations = new_measuringstation.get_related_location()"
   ]
  },
  {
   "cell_type": "markdown",
   "metadata": {},
   "source": [
    "Locations\n",
    "---------"
   ]
  },
  {
   "cell_type": "code",
   "execution_count": null,
   "metadata": {},
   "outputs": [],
   "source": [
    "location = liz.Location(headers=headers, uuid='location_uuid')\n",
    "\n",
    "timeseries = location.get_related_timeseries(return_format='json')"
   ]
  },
  {
   "cell_type": "markdown",
   "metadata": {},
   "source": [
    "Timeseries\n",
    "----------"
   ]
  },
  {
   "cell_type": "code",
   "execution_count": null,
   "metadata": {},
   "outputs": [
    {
     "ename": "NameError",
     "evalue": "name 'liz' is not defined",
     "output_type": "error",
     "traceback": [
      "\u001b[1;31m---------------------------------------------------------------------------\u001b[0m",
      "\u001b[1;31mNameError\u001b[0m                                 Traceback (most recent call last)",
      "\u001b[1;32mc:\\Users\\florian.knappers\\Desktop\\pylizard\\pylizard\\examples.ipynb Cell 14\u001b[0m in \u001b[0;36m<cell line: 1>\u001b[1;34m()\u001b[0m\n\u001b[1;32m----> <a href='vscode-notebook-cell:/c%3A/Users/florian.knappers/Desktop/pylizard/pylizard/examples.ipynb#X16sZmlsZQ%3D%3D?line=0'>1</a>\u001b[0m timeserie \u001b[39m=\u001b[39m liz\u001b[39m.\u001b[39mTimeserie(headers\u001b[39m=\u001b[39mheaders, uuid\u001b[39m=\u001b[39m\u001b[39m'\u001b[39m\u001b[39mtimeserie_uuid\u001b[39m\u001b[39m'\u001b[39m)\n\u001b[0;32m      <a href='vscode-notebook-cell:/c%3A/Users/florian.knappers/Desktop/pylizard/pylizard/examples.ipynb#X16sZmlsZQ%3D%3D?line=1'>2</a>\u001b[0m \u001b[39mprint\u001b[39m(timeserie\u001b[39m.\u001b[39mget_timeserie_data())\n",
      "\u001b[1;31mNameError\u001b[0m: name 'liz' is not defined"
     ]
    }
   ],
   "source": [
    "timeserie = liz.Timeserie(headers=headers, uuid='timeserie_uuid')\n",
    "print(timeserie.get_timeserie_data())\n",
    "\n",
    "aggregated_data = timeserie.get_aggregated_data(return_format='df', fields='avg,time', start='2022-08-18T08:24:26.880022Z', end='2023-08-18T08:24:26.880022Z', window='day')\n",
    "\n",
    "events = timeserie.get_events(time_range='2020-04-23T00:00:00Z,2022-04-23T00:00:00Z', extra_parameters='flag__in=2,3')\n",
    "\n",
    "# example of how to delete events. In this example the post data is the data that allready exists\n",
    "# that doesnt make sense, but just as example.\n",
    "timeserie.add_events(data_df='events')\n",
    "\n",
    "percentiles = timeserie.get_percentiles(percentiles='25,50,75')\n",
    "print(percentiles)"
   ]
  }
 ],
 "metadata": {
  "kernelspec": {
   "display_name": "Python 3",
   "language": "python",
   "name": "python3"
  },
  "language_info": {
   "codemirror_mode": {
    "name": "ipython",
    "version": 3
   },
   "file_extension": ".py",
   "mimetype": "text/x-python",
   "name": "python",
   "nbconvert_exporter": "python",
   "pygments_lexer": "ipython3",
   "version": "3.8.10"
  },
  "orig_nbformat": 4
 },
 "nbformat": 4,
 "nbformat_minor": 2
}
